{
 "cells": [
  {
   "cell_type": "code",
   "execution_count": 10,
   "metadata": {
    "collapsed": false
   },
   "outputs": [
    {
     "name": "stdout",
     "output_type": "stream",
     "text": [
      "Populating the interactive namespace from numpy and matplotlib\n"
     ]
    },
    {
     "name": "stderr",
     "output_type": "stream",
     "text": [
      "WARNING: pylab import has clobbered these variables: ['pylab']\n",
      "`%matplotlib` prevents importing * from pylab and numpy\n"
     ]
    }
   ],
   "source": [
    "import time\n",
    "import sys\n",
    "from collections import Counter\n",
    "import pandas as pd\n",
    "import scipy.io as sio\n",
    "import numpy as np\n",
    "import matplotlib.pyplot as plt\n",
    "%pylab inline\n",
    "import pylab\n",
    "import gzip\n",
    "from Bio import SeqIO\n",
    "import seaborn as sns\n",
    "import string\n",
    "from matplotlib import rcParams"
   ]
  },
  {
   "cell_type": "code",
   "execution_count": 11,
   "metadata": {
    "collapsed": false
   },
   "outputs": [],
   "source": [
    "#Open .txt files for mating data\n",
    "#If your files are in fastq, just change the \n",
    "f1 = open('/Users/dyounger/GoogleDrive/UW_Work/PAPER_YSA/Data/NGS/NGS_Mating_Characterization/SSM_Libraries/BclXL_SSM_R1.txt', \"r\")\n",
    "f2 = open('/Users/dyounger/GoogleDrive/UW_Work/PAPER_YSA/Data/NGS/NGS_Mating_Characterization/SSM_Libraries/BclXL_SSM_R2.txt', \"r\")\n",
    "#Open .csv file for matching SSM mutation to barcode\n",
    "f3 = pd.read_csv('/Users/dyounger/GoogleDrive/UW_Work/PAPER_YSA/Code/SSMLibraryAnalysis/CSV_outputs_from_step1/XCDP07_BarcodeLibrary.csv')\n",
    "#open .csv file for residue types\n",
    "f5 = pd.read_csv('/Users/dyounger/GoogleDrive/UW_Work/PAPER_YSA/Data/XCDP07_residue_type.csv')\n",
    "\n",
    "#specify list of all targets\n",
    "all_targets=['Bfl1','BclB','BclXL','Bcl2','BclW','Mcl1']\n",
    "#specify intended target for binder\n",
    "target='BclXL'"
   ]
  },
  {
   "cell_type": "code",
   "execution_count": 12,
   "metadata": {
    "collapsed": false
   },
   "outputs": [],
   "source": [
    "#process the text files to get them into the desired format\n",
    "z1 = f1.readline()\n",
    "a1=[]\n",
    "x=1\n",
    "while True:\n",
    "    a1.append(f1.readline())\n",
    "    z1 = f1.readline()\n",
    "    z1 = f1.readline()\n",
    "    z1 = f1.readline()\n",
    "    if z1.strip() == \"\":\n",
    "        break\n",
    "    x=x+1\n",
    "f1.close()\n",
    "df=pd.DataFrame(data=a1,columns=['read1'])\n",
    "\n",
    "z2 = f2.readline()\n",
    "a2=[]\n",
    "x=1\n",
    "while True:\n",
    "    a2.append(f2.readline())\n",
    "\n",
    "    z2 = f2.readline()\n",
    "    z2 = f2.readline()\n",
    "    z2 = f2.readline()\n",
    "    if z2.strip() == \"\":\n",
    "        break\n",
    "    x=x+1\n",
    "f2.close()\n",
    "read2df=pd.DataFrame(data=a2,columns=['read2'])\n",
    "df=df.join(read2df)\n",
    "\n",
    "#process the barcodes/mutations file to get it into the desired format->dictionary\n",
    "mutations = pd.DataFrame(data=f3['barcode'], columns = ['barcode'])\n",
    "temp = pd.DataFrame(data=f3['combined'], columns = ['combined'])\n",
    "temp2 = pd.DataFrame(data=f3['position'], columns = ['position'])\n",
    "temp3 = pd.DataFrame(data=f3['mutation'], columns = ['mutation'])\n",
    "temp4 = pd.DataFrame(data=f3['group_size'], columns = ['group_size'])\n",
    "mutations = mutations.join(temp)\n",
    "mutations = mutations.join(temp2)\n",
    "mutations = mutations.join(temp3)\n",
    "mutations = mutations.join(temp4)\n",
    "BC_dictionary = mutations.set_index('barcode').T.to_dict('list')"
   ]
  },
  {
   "cell_type": "code",
   "execution_count": 13,
   "metadata": {
    "collapsed": false
   },
   "outputs": [
    {
     "name": "stdout",
     "output_type": "stream",
     "text": [
      "1372458\n"
     ]
    }
   ],
   "source": [
    "# Filter for read quality by looking at conserved regions\n",
    "df=df[df.read1.str.slice(27,37) == 'GAAAAGCGGC']\n",
    "df=df[df.read1.str.slice(52,62) == 'AATAAAGGAG']\n",
    "df=df[df.read2.str.slice(27,37) == 'CCAGGTATCG']\n",
    "df=df[df.read2.str.slice(52,62) == 'TTATGTCACG']\n",
    "\n",
    "# Grab just the barcodes and join them into one dataframe\n",
    "bc=pd.DataFrame(data=df.read1.str.slice(37,47),columns=['read1'])\n",
    "read2bc=pd.DataFrame(data=df.read2.str.slice(37,47),columns=['read2'])\n",
    "bc=bc.join(read2bc)\n",
    "bc.columns=['MATa','barcode']\n",
    "print len(bc)"
   ]
  },
  {
   "cell_type": "code",
   "execution_count": 14,
   "metadata": {
    "collapsed": false
   },
   "outputs": [],
   "source": [
    "#Replace MATa barcodes with the target name\n",
    "bc = bc.replace(['TCTGAATCAA','TTATTACCAT','GGTTCTATAA','AGTAGATCGT','CTCACGTGTG','AATCCAACGA'],['Bcl2','BclB','BclXL','Bfl1','BclW','Mcl1'])\n",
    "# Filter for correct barcodes only\n",
    "bc=bc[(bc.MATa == 'Bfl1') | (bc.MATa=='BclB') | (bc.MATa=='Bcl2') | (bc.MATa=='BclXL') | (bc.MATa=='BclW') | (bc.MATa=='Mcl1')]\n",
    "#make list of non-targets:\n",
    "others=all_targets\n",
    "others.remove(target)"
   ]
  },
  {
   "cell_type": "code",
   "execution_count": 15,
   "metadata": {
    "collapsed": true
   },
   "outputs": [],
   "source": [
    "#For each barcode, count the number of times it is seen with a given MATa\n",
    "bc1=bc.groupby('barcode').MATa.apply(Counter).unstack().reset_index().fillna(value=0)"
   ]
  },
  {
   "cell_type": "code",
   "execution_count": 16,
   "metadata": {
    "collapsed": false
   },
   "outputs": [],
   "source": [
    "#Replace MATalpha barcodes with the mutation from the dictionary\n",
    "per_barcode = pd.merge(bc1,mutations,on='barcode',how='right').fillna(value=0)"
   ]
  },
  {
   "cell_type": "code",
   "execution_count": 17,
   "metadata": {
    "collapsed": false
   },
   "outputs": [],
   "source": [
    "#combine all barcodes that have the same mutation : sum counts\n",
    "per_mutation = per_barcode.drop('barcode',1)\n",
    "per_mutation = per_mutation.groupby('combined').agg({'Bcl2' : np.sum,\n",
    "                                                     'BclB' : np.sum,\n",
    "                                                     'BclW' : np.sum,\n",
    "                                                     'BclXL' : np.sum,\n",
    "                                                     'Bfl1' : np.sum,\n",
    "                                                     'Mcl1' : np.sum,\n",
    "                                                     'group_size' : np.sum,\n",
    "                                                     'mutation' : np.any,\n",
    "                                                     'position' : np.mean}).reset_index()\n",
    "#add column to each dataframe with total counts\n",
    "per_mutation['count']=per_mutation['Bcl2']+per_mutation['BclB']+per_mutation['BclW']+per_mutation['BclXL']+per_mutation['Bfl1']+per_mutation['Mcl1']\n",
    "per_mutation.columns = ['combined','naive','Bfl1','Mcl1','position','BclW','BclB','BclXL','aa','Bcl2','total']"
   ]
  },
  {
   "cell_type": "code",
   "execution_count": 19,
   "metadata": {
    "collapsed": false
   },
   "outputs": [],
   "source": [
    "#designate each position as core, surface, interface\n",
    "f5['position'] = f5['position'].astype(float)\n",
    "per_mutation=pd.merge(per_mutation,f5,on='position',how='left')"
   ]
  },
  {
   "cell_type": "code",
   "execution_count": 21,
   "metadata": {
    "collapsed": false
   },
   "outputs": [],
   "source": [
    "#sort and reset index\n",
    "per_mutation=per_mutation.sort_values(['position','aa'],ascending=[True,True]).reset_index().fillna(value=0)\n",
    "del per_mutation['index']\n",
    "#reorder columns\n",
    "df_summary=per_mutation[['combined','aa','position','naive','total','Bfl1','BclB','Bcl2','BclW','BclXL','Mcl1','type']]"
   ]
  },
  {
   "cell_type": "code",
   "execution_count": 23,
   "metadata": {
    "collapsed": true
   },
   "outputs": [],
   "source": [
    "#Save the dataframe!\n",
    "df_summary.to_csv('XCDP07_df_summary'+'.csv')"
   ]
  }
 ],
 "metadata": {
  "kernelspec": {
   "display_name": "Python 2",
   "language": "python",
   "name": "python2"
  },
  "language_info": {
   "codemirror_mode": {
    "name": "ipython",
    "version": 2
   },
   "file_extension": ".py",
   "mimetype": "text/x-python",
   "name": "python",
   "nbconvert_exporter": "python",
   "pygments_lexer": "ipython2",
   "version": "2.7.11"
  }
 },
 "nbformat": 4,
 "nbformat_minor": 0
}
