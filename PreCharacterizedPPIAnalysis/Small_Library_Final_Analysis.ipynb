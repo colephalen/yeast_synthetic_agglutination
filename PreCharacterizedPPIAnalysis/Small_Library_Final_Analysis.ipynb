{
 "cells": [
  {
   "cell_type": "code",
   "execution_count": 1,
   "metadata": {
    "collapsed": false
   },
   "outputs": [
    {
     "name": "stderr",
     "output_type": "stream",
     "text": [
      "/Library/Frameworks/Python.framework/Versions/2.7/lib/python2.7/site-packages/matplotlib/font_manager.py:273: UserWarning: Matplotlib is building the font cache using fc-list. This may take a moment.\n",
      "  warnings.warn('Matplotlib is building the font cache using fc-list. This may take a moment.')\n"
     ]
    },
    {
     "name": "stdout",
     "output_type": "stream",
     "text": [
      "Populating the interactive namespace from numpy and matplotlib\n"
     ]
    }
   ],
   "source": [
    "import time\n",
    "import sys\n",
    "from collections import Counter\n",
    "import pandas as pd\n",
    "import scipy.io as sio\n",
    "import numpy as np\n",
    "import matplotlib.pyplot as plt\n",
    "%pylab inline\n",
    "import pylab\n",
    "import gzip\n",
    "from Bio import SeqIO\n",
    "import seaborn as sns"
   ]
  },
  {
   "cell_type": "code",
   "execution_count": 2,
   "metadata": {
    "collapsed": true
   },
   "outputs": [],
   "source": [
    "#The inputs here are text files\n",
    "#If your sequencing files are in fastq, change their file type to .txt and this should work!\n",
    "f1 = open('/Users/dyounger/GoogleDrive/UW_Work/PAPER_YSA/Data/NGS/NGS_Mating_Characterization/PreCharacterized_Libraries/binders-100uM_bad_R1_001.txt', \"r\")\n",
    "f2 = open('/Users/dyounger/GoogleDrive/UW_Work/PAPER_YSA/Data/NGS/NGS_Mating_Characterization/PreCharacterized_Libraries/binders-100uM_bad_R2_001.txt', \"r\")\n",
    "\n",
    "#privide a name for the output csv file:\n",
    "name='binders_100uM_Bad'"
   ]
  },
  {
   "cell_type": "code",
   "execution_count": 3,
   "metadata": {
    "collapsed": false
   },
   "outputs": [],
   "source": [
    "#Read the txt files and grab just the sequences\n",
    "z1 = f1.readline()\n",
    "a1=[]\n",
    "x=1\n",
    "while True:\n",
    "    a1.append(f1.readline())\n",
    "    z1 = f1.readline()\n",
    "    z1 = f1.readline()\n",
    "    z1 = f1.readline()\n",
    "    if z1.strip() == \"\":\n",
    "        break\n",
    "    x=x+1\n",
    "f1.close()\n",
    "\n",
    "df=pd.DataFrame(data=a1,columns=['read1'])\n",
    "len(df.index)\n",
    "\n",
    "z2 = f2.readline()\n",
    "a2=[]\n",
    "x=1\n",
    "while True:\n",
    "    a2.append(f2.readline())\n",
    "\n",
    "    z2 = f2.readline()\n",
    "    z2 = f2.readline()\n",
    "    z2 = f2.readline()\n",
    "    if z2.strip() == \"\":\n",
    "        break\n",
    "    x=x+1\n",
    "f2.close()\n",
    "\n",
    "read2df=pd.DataFrame(data=a2,columns=['read2'])\n",
    "len(read2df.index)\n",
    "df=df.join(read2df)"
   ]
  },
  {
   "cell_type": "code",
   "execution_count": 4,
   "metadata": {
    "collapsed": false
   },
   "outputs": [
    {
     "name": "stdout",
     "output_type": "stream",
     "text": [
      "192182\n"
     ]
    }
   ],
   "source": [
    "# Filter for read quality by look at conserve regions\n",
    "df=df[df.read1.str.slice(22,37) == 'GATTCGAAAAGCGGC']\n",
    "df=df[df.read1.str.slice(47,62) == 'GCTTCAATAAAGGAG']\n",
    "df=df[df.read2.str.slice(22,37) == 'CACAACCAGGTATCG']\n",
    "df=df[df.read2.str.slice(47,62) == 'ATTAGTTATGTCACG']\n",
    "\n",
    "# Grab just the barcodes and join them into one dataframe\n",
    "bc=pd.DataFrame(data=df.read1.str.slice(37,47),columns=['read1'])\n",
    "read2bc=pd.DataFrame(data=df.read2.str.slice(37,47),columns=['read2'])\n",
    "bc=bc.join(read2bc)\n",
    "print len(bc)"
   ]
  },
  {
   "cell_type": "code",
   "execution_count": 5,
   "metadata": {
    "collapsed": false
   },
   "outputs": [],
   "source": [
    "#replace the barcodes with the protein they represent\n",
    "#MATa barcodes\n",
    "bc = bc.replace(['TCTGAATCAA','TTATTACCAT','GGTTCTATAA','AGTAGATCGT','CTCACGTGTG','AATCCAACGA'],['Bcl2','BclB','BclXL','Bfl1','BclW','Mcl1'])\n",
    "#MATalpha de novo binder barcodes\n",
    "bc = bc.replace(['GTCAACTATT','ATACCTGTAC','TGTAACTTGT','GACTACGGGG','GCTATTCTGT','CCGTAAGGCT','GGGTGAGGTG','TGTGGTAATG','GGCGGGTGCG'],['F21','F30D','B+','B-CDP01','B40A','2+','4LVT','X-CDP07','MINDI'])\n",
    "#MATalpha BH3 peptide barcodes\n",
    "bc = bc.replace(['GAGAGTACGG','TCGTAAAGCG','AGGTGATCAT','CAGTTTTGTG','AGCTTGACAA','GTAATGTACT','TATCGAGTAT'],['Bim','Noxa','Puma','Bad','Bik','Hrk','Bmf'])\n",
    "\n",
    "# Filter for correct barcodes only: ALL binders and peptides\n",
    "bc=bc[(bc.read1 == 'Bfl1') | (bc.read1=='BclB') | (bc.read1=='Bcl2') | (bc.read1=='BclXL') | (bc.read1=='BclW') | (bc.read1=='Mcl1')]\n",
    "bc=bc[(bc.read2 == 'F21') | (bc.read2=='F30D') | (bc.read2=='B+') | (bc.read2=='B-CDP01') | (bc.read2=='B40A') | (bc.read2=='2+') | (bc.read2=='4LVT') | (bc.read2=='X-CDP07') | (bc.read2=='MINDI') | (bc.read2=='Bim') | (bc.read2=='Noxa') | (bc.read2=='Puma') | (bc.read2=='Bad') | (bc.read2=='Bik') | (bc.read2=='Hrk') | (bc.read2=='Bmf')]"
   ]
  },
  {
   "cell_type": "code",
   "execution_count": 6,
   "metadata": {
    "collapsed": false
   },
   "outputs": [],
   "source": [
    "# replace barcodes with binder names\n",
    "tags1=['Bcl2','BclB','BclXL','Bfl1','BclW','Mcl1']\n",
    "tags2=['2+','B+','4LVT','B-CDP01','B40A','F21','F30D','MINDI','X-CDP07','Bad','Bik','Bim','Bmf','Hrk','Noxa','Puma']\n",
    "tags= tags1 + tags2\n",
    "df2={}\n",
    "\n",
    "for tag1 in tags1:\n",
    "     df2[tag1]=Counter()\n",
    "for i in range(len(bc)):\n",
    "    tag1=bc['read1'].iloc[i]\n",
    "    tag2=bc['read2'].iloc[i]\n",
    "    df2[tag1][tag2] +=1"
   ]
  },
  {
   "cell_type": "code",
   "execution_count": 7,
   "metadata": {
    "collapsed": false
   },
   "outputs": [
    {
     "name": "stdout",
     "output_type": "stream",
     "text": [
      "            Bfl1     BclB    Bcl2  BclXL    BclW    Mcl1\n",
      "F21      32801.0   1534.0   133.0   15.0   468.0   461.0\n",
      "F30D     19275.0    866.0    74.0   73.0   230.0   141.0\n",
      "B+        1258.0  39055.0   182.0   17.0   393.0   290.0\n",
      "B-CDP01   5905.0  13644.0   211.0   32.0   593.0  3882.0\n",
      "B40A      2348.0  25047.0    55.0   95.0   340.0   239.0\n",
      "2+         233.0     81.0  1009.0   79.0   575.0    32.0\n",
      "4LVT       199.0     92.0   360.0   16.0  1151.0    45.0\n",
      "X-CDP07    631.0   7325.0    88.0  115.0  9910.0  1991.0\n",
      "MINDI      402.0   1375.0    62.0    3.0   163.0  6521.0\n",
      "Bim         81.0      8.0     1.0   36.0    32.0    81.0\n",
      "Noxa         0.0      0.0     0.0    0.0     0.0     0.0\n",
      "Puma        35.0      2.0     0.0    0.0     0.0     0.0\n",
      "Bad          0.0      0.0     0.0    0.0     0.0     0.0\n",
      "Bik          0.0      0.0     0.0    0.0     0.0     0.0\n",
      "Hrk          0.0      0.0     0.0    0.0     0.0     0.0\n",
      "Bmf          0.0      0.0     1.0    0.0     0.0     0.0\n"
     ]
    }
   ],
   "source": [
    "#Reorder for binders and peptides\n",
    "#If binders or peptides were not included in this run, that portion of the matrix should give very low counts, which \n",
    "#can be ingnored for analysis \n",
    "df3 = pd.DataFrame(df2).fillna(0)\n",
    "df3=df3[['Bfl1','BclB','Bcl2','BclXL','BclW','Mcl1']]\n",
    "df3=df3.reindex(['F21','F30D','B+','B-CDP01','B40A','2+','4LVT','X-CDP07','MINDI','Bim','Noxa','Puma','Bad','Bik','Hrk','Bmf'])\n",
    "df3 = pd.DataFrame(df3).fillna(0)\n",
    "\n",
    "print df3"
   ]
  },
  {
   "cell_type": "code",
   "execution_count": 8,
   "metadata": {
    "collapsed": true
   },
   "outputs": [],
   "source": [
    "#Save the dataframe!\n",
    "df3.to_csv(name+'.csv')"
   ]
  }
 ],
 "metadata": {
  "kernelspec": {
   "display_name": "Python 2",
   "language": "python",
   "name": "python2"
  },
  "language_info": {
   "codemirror_mode": {
    "name": "ipython",
    "version": 2
   },
   "file_extension": ".py",
   "mimetype": "text/x-python",
   "name": "python",
   "nbconvert_exporter": "python",
   "pygments_lexer": "ipython2",
   "version": "2.7.11"
  }
 },
 "nbformat": 4,
 "nbformat_minor": 0
}
